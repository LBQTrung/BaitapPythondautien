{
  "nbformat": 4,
  "nbformat_minor": 0,
  "metadata": {
    "colab": {
      "name": "slide53.ipynb",
      "provenance": [],
      "collapsed_sections": [],
      "authorship_tag": "ABX9TyO2yDQ0Id/270Tql5Cjglg0",
      "include_colab_link": true
    },
    "kernelspec": {
      "name": "python3",
      "display_name": "Python 3"
    },
    "language_info": {
      "name": "python"
    }
  },
  "cells": [
    {
      "cell_type": "markdown",
      "metadata": {
        "id": "view-in-github",
        "colab_type": "text"
      },
      "source": [
        "<a href=\"https://colab.research.google.com/github/LBQTrung/BaitapPythondautien/blob/master/slide53.ipynb\" target=\"_parent\"><img src=\"https://colab.research.google.com/assets/colab-badge.svg\" alt=\"Open In Colab\"/></a>"
      ]
    },
    {
      "cell_type": "code",
      "metadata": {
        "id": "pHOhRCkxYmtY"
      },
      "source": [
        "print(\"Nhap diem A\")\n",
        "a_x = float(input(\"x =\"))\n",
        "a_y = float(input(\"y =\"))\n",
        "\n",
        "import math\n",
        "distance = math.sqrt(pow(a_x, 2) + pow(a_y, 2))\n",
        "print(round(distance,2))"
      ],
      "execution_count": null,
      "outputs": []
    }
  ]
}