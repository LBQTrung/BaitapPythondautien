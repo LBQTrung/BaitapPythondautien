{
  "nbformat": 4,
  "nbformat_minor": 0,
  "metadata": {
    "colab": {
      "name": "slide53.ipynb",
      "provenance": [],
      "collapsed_sections": [],
      "authorship_tag": "ABX9TyMtV1q67bWWwFIGcGtqzw2T",
      "include_colab_link": true
    },
    "kernelspec": {
      "name": "python3",
      "display_name": "Python 3"
    },
    "language_info": {
      "name": "python"
    }
  },
  "cells": [
    {
      "cell_type": "markdown",
      "metadata": {
        "id": "view-in-github",
        "colab_type": "text"
      },
      "source": [
        "<a href=\"https://colab.research.google.com/github/LBQTrung/BaitapPythondautien/blob/master/slide53.ipynb\" target=\"_parent\"><img src=\"https://colab.research.google.com/assets/colab-badge.svg\" alt=\"Open In Colab\"/></a>"
      ]
    },
    {
      "cell_type": "code",
      "metadata": {
        "id": "pHOhRCkxYmtY"
      },
      "source": [
        "print(\"Nhap diem A\")\n",
        "a_x = float(input(\"x =\"))\n",
        "a_y = float(input(\"y =\"))\n",
        "\n",
        "print(\"Nhap diem B\")\n",
        "b_x = float(input(\"x =\"))\n",
        "b_y = float(input(\"y =\")\n",
        "\n",
        "import math\n",
        "distance = math.sqrt(pow(a_x-b_x, 2) + pow(a_y-b_y, 2))\n",
        "print(round(distance,2))"
      ],
      "execution_count": null,
      "outputs": []
    }
  ]
}