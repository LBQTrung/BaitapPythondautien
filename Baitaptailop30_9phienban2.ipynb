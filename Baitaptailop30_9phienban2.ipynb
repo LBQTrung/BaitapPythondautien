{
  "nbformat": 4,
  "nbformat_minor": 0,
  "metadata": {
    "colab": {
      "name": "Baitaptailop30/9phienban2.ipynb",
      "provenance": [],
      "collapsed_sections": [],
      "authorship_tag": "ABX9TyNm7f2SWXgWuKJUGO8YWQ+V",
      "include_colab_link": true
    },
    "kernelspec": {
      "name": "python3",
      "display_name": "Python 3"
    },
    "language_info": {
      "name": "python"
    }
  },
  "cells": [
    {
      "cell_type": "markdown",
      "metadata": {
        "id": "view-in-github",
        "colab_type": "text"
      },
      "source": [
        "<a href=\"https://colab.research.google.com/github/LBQTrung/BaitapPythondautien/blob/master/Baitaptailop30_9phienban2.ipynb\" target=\"_parent\"><img src=\"https://colab.research.google.com/assets/colab-badge.svg\" alt=\"Open In Colab\"/></a>"
      ]
    },
    {
      "cell_type": "markdown",
      "metadata": {
        "id": "Z6eC9wkcR60I"
      },
      "source": [
        "Bai 1:"
      ]
    },
    {
      "cell_type": "code",
      "metadata": {
        "colab": {
          "base_uri": "https://localhost:8080/"
        },
        "id": "tlwdKstDR8E5",
        "outputId": "84be4d70-7354-492a-f711-06c3ac8a21e2"
      },
      "source": [
        "numberlist = [2,1,3,5,6,8,9,4,7,10]\n",
        "sumlist = sum(numberlist)\n",
        "print(sumlist)"
      ],
      "execution_count": 4,
      "outputs": [
        {
          "output_type": "stream",
          "name": "stdout",
          "text": [
            "55\n"
          ]
        }
      ]
    },
    {
      "cell_type": "markdown",
      "metadata": {
        "id": "BZNCSoZsS3GG"
      },
      "source": [
        "Bài 2:"
      ]
    },
    {
      "cell_type": "code",
      "metadata": {
        "colab": {
          "base_uri": "https://localhost:8080/",
          "height": 217
        },
        "id": "2aUDGdUGXLsY",
        "outputId": "93ee79f3-ad42-49fa-b1c1-6a570b9a7927"
      },
      "source": [
        "import math\n",
        "numberlist = [2,1,3,5,6,8,9,4,7,10]\n",
        "mutiplylist = math.prod(numberlist)\n",
        "print(mutiplylist)"
      ],
      "execution_count": 27,
      "outputs": [
        {
          "output_type": "error",
          "ename": "AttributeError",
          "evalue": "ignored",
          "traceback": [
            "\u001b[0;31m---------------------------------------------------------------------------\u001b[0m",
            "\u001b[0;31mAttributeError\u001b[0m                            Traceback (most recent call last)",
            "\u001b[0;32m<ipython-input-27-f2effec9cbfd>\u001b[0m in \u001b[0;36m<module>\u001b[0;34m()\u001b[0m\n\u001b[1;32m      1\u001b[0m \u001b[0;32mimport\u001b[0m \u001b[0mmath\u001b[0m\u001b[0;34m\u001b[0m\u001b[0;34m\u001b[0m\u001b[0m\n\u001b[1;32m      2\u001b[0m \u001b[0mnumberlist\u001b[0m \u001b[0;34m=\u001b[0m \u001b[0;34m[\u001b[0m\u001b[0;36m2\u001b[0m\u001b[0;34m,\u001b[0m\u001b[0;36m1\u001b[0m\u001b[0;34m,\u001b[0m\u001b[0;36m3\u001b[0m\u001b[0;34m,\u001b[0m\u001b[0;36m5\u001b[0m\u001b[0;34m,\u001b[0m\u001b[0;36m6\u001b[0m\u001b[0;34m,\u001b[0m\u001b[0;36m8\u001b[0m\u001b[0;34m,\u001b[0m\u001b[0;36m9\u001b[0m\u001b[0;34m,\u001b[0m\u001b[0;36m4\u001b[0m\u001b[0;34m,\u001b[0m\u001b[0;36m7\u001b[0m\u001b[0;34m,\u001b[0m\u001b[0;36m10\u001b[0m\u001b[0;34m]\u001b[0m\u001b[0;34m\u001b[0m\u001b[0;34m\u001b[0m\u001b[0m\n\u001b[0;32m----> 3\u001b[0;31m \u001b[0mmutiplylist\u001b[0m \u001b[0;34m=\u001b[0m \u001b[0mmath\u001b[0m\u001b[0;34m.\u001b[0m\u001b[0mprod\u001b[0m\u001b[0;34m(\u001b[0m\u001b[0mnumberlist\u001b[0m\u001b[0;34m)\u001b[0m\u001b[0;34m\u001b[0m\u001b[0;34m\u001b[0m\u001b[0m\n\u001b[0m\u001b[1;32m      4\u001b[0m \u001b[0mprint\u001b[0m\u001b[0;34m(\u001b[0m\u001b[0mmutiplylist\u001b[0m\u001b[0;34m)\u001b[0m\u001b[0;34m\u001b[0m\u001b[0;34m\u001b[0m\u001b[0m\n",
            "\u001b[0;31mAttributeError\u001b[0m: module 'math' has no attribute 'prod'"
          ]
        }
      ]
    },
    {
      "cell_type": "markdown",
      "metadata": {
        "id": "ZLAzgBymXhqx"
      },
      "source": [
        "Bài 2 em làm trên pycharm chạy được mà :<"
      ]
    },
    {
      "cell_type": "markdown",
      "metadata": {
        "id": "_Fl0oqtPT8S-"
      },
      "source": [
        "Bài 3:"
      ]
    },
    {
      "cell_type": "code",
      "metadata": {
        "colab": {
          "base_uri": "https://localhost:8080/"
        },
        "id": "lhXbBRJ9T9Ye",
        "outputId": "27a188a2-d5c3-47c6-f497-7223909674b9"
      },
      "source": [
        "numberlist = [2,1,3,5,6,8,9,4,7,10]\n",
        "maxnum = max(numberlist)\n",
        "print(maxnum)"
      ],
      "execution_count": 12,
      "outputs": [
        {
          "output_type": "stream",
          "name": "stdout",
          "text": [
            "10\n"
          ]
        }
      ]
    },
    {
      "cell_type": "markdown",
      "metadata": {
        "id": "Y-79SgBIUDYX"
      },
      "source": [
        "Bài 4:"
      ]
    },
    {
      "cell_type": "code",
      "metadata": {
        "colab": {
          "base_uri": "https://localhost:8080/"
        },
        "id": "CJmhVaOuUGyu",
        "outputId": "739f5b47-0036-4c4c-cbe9-546e0e3a1d6f"
      },
      "source": [
        "numberlist = [2,1,3,5,6,8,9,4,7,10]\n",
        "minnum = min(numberlist)\n",
        "print(minnum)"
      ],
      "execution_count": 13,
      "outputs": [
        {
          "output_type": "stream",
          "name": "stdout",
          "text": [
            "1\n"
          ]
        }
      ]
    },
    {
      "cell_type": "markdown",
      "metadata": {
        "id": "yYvEziRmUPlG"
      },
      "source": [
        "Bài 5:"
      ]
    },
    {
      "cell_type": "code",
      "metadata": {
        "colab": {
          "base_uri": "https://localhost:8080/"
        },
        "id": "S_OsNKAaUQzW",
        "outputId": "3e207f42-54c5-45a5-8f77-7e8f46ff7f28"
      },
      "source": [
        "numberlist = [2,1,3,5,6,8,9,4,7,10]\n",
        "numberlist.sort(reverse = True)\n",
        "print(numberlist)"
      ],
      "execution_count": 19,
      "outputs": [
        {
          "output_type": "stream",
          "name": "stdout",
          "text": [
            "[10, 9, 8, 7, 6, 5, 4, 3, 2, 1]\n"
          ]
        }
      ]
    },
    {
      "cell_type": "markdown",
      "metadata": {
        "id": "E5bKX0CIUoJ_"
      },
      "source": [
        "Bài 6:"
      ]
    },
    {
      "cell_type": "code",
      "metadata": {
        "colab": {
          "base_uri": "https://localhost:8080/"
        },
        "id": "83umCtPZUpIH",
        "outputId": "30948e75-ad91-4fc4-9451-9b9462060e70"
      },
      "source": [
        "numberlist = [2,1,3,5,6,8,9,4,7,10]\n",
        "numberlist.sort()\n",
        "print(numberlist)"
      ],
      "execution_count": 18,
      "outputs": [
        {
          "output_type": "stream",
          "name": "stdout",
          "text": [
            "[1, 2, 3, 4, 5, 6, 7, 8, 9, 10]\n"
          ]
        }
      ]
    },
    {
      "cell_type": "markdown",
      "metadata": {
        "id": "phZdPv6qUzne"
      },
      "source": [
        "Bài 7:"
      ]
    },
    {
      "cell_type": "code",
      "metadata": {
        "colab": {
          "base_uri": "https://localhost:8080/"
        },
        "id": "MTF83xsYU0o3",
        "outputId": "887a62e8-fe8a-4f9d-8a1a-3678dbf059ca"
      },
      "source": [
        "numberlist = [2,1,3,5,6,8,9,4,7,10]\n",
        "lenlist = len(numberlist)\n",
        "print(lenlist)"
      ],
      "execution_count": 22,
      "outputs": [
        {
          "output_type": "stream",
          "name": "stdout",
          "text": [
            "10\n"
          ]
        }
      ]
    },
    {
      "cell_type": "markdown",
      "metadata": {
        "id": "Hje4y3X2VLjo"
      },
      "source": [
        "Bài 8:"
      ]
    },
    {
      "cell_type": "code",
      "metadata": {
        "colab": {
          "base_uri": "https://localhost:8080/"
        },
        "id": "hTR8RqcvVMgH",
        "outputId": "d73fc6d6-08c2-4d5f-96b7-f2bcd98eefe5"
      },
      "source": [
        "import random\n",
        "numberlist = [2,1,3,5,6,8,9,4,7,10]\n",
        "print(random.choice(numberlist))"
      ],
      "execution_count": 23,
      "outputs": [
        {
          "output_type": "stream",
          "name": "stdout",
          "text": [
            "6\n"
          ]
        }
      ]
    },
    {
      "cell_type": "markdown",
      "metadata": {
        "id": "9jI5VUaoVdcX"
      },
      "source": [
        "Bài 9:"
      ]
    },
    {
      "cell_type": "code",
      "metadata": {
        "colab": {
          "base_uri": "https://localhost:8080/"
        },
        "id": "yZUZOjGrV7Jz",
        "outputId": "175e4eda-abf9-4aaa-85e7-822f843484ab"
      },
      "source": [
        "numberlist1 = [1,2,3,4,5]\n",
        "numberlist2 = [6,7,8,9,10]\n",
        "numberlist1.extend(numberlist2)\n",
        "print(numberlist1)\n"
      ],
      "execution_count": 24,
      "outputs": [
        {
          "output_type": "stream",
          "name": "stdout",
          "text": [
            "[1, 2, 3, 4, 5, 6, 7, 8, 9, 10]\n"
          ]
        }
      ]
    }
  ]
}