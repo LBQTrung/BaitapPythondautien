{
  "nbformat": 4,
  "nbformat_minor": 0,
  "metadata": {
    "colab": {
      "name": "Baitaptailop30/9.ipynb",
      "provenance": [],
      "collapsed_sections": [],
      "authorship_tag": "ABX9TyMMuFM8ElY3/tO34goXILpw",
      "include_colab_link": true
    },
    "kernelspec": {
      "name": "python3",
      "display_name": "Python 3"
    },
    "language_info": {
      "name": "python"
    }
  },
  "cells": [
    {
      "cell_type": "markdown",
      "metadata": {
        "id": "view-in-github",
        "colab_type": "text"
      },
      "source": [
        "<a href=\"https://colab.research.google.com/github/LBQTrung/BaitapPythondautien/blob/master/Baitaptailop30_9.ipynb\" target=\"_parent\"><img src=\"https://colab.research.google.com/assets/colab-badge.svg\" alt=\"Open In Colab\"/></a>"
      ]
    },
    {
      "cell_type": "markdown",
      "metadata": {
        "id": "NaqUKaceLiWH"
      },
      "source": [
        "Slide 6:"
      ]
    },
    {
      "cell_type": "code",
      "metadata": {
        "colab": {
          "base_uri": "https://localhost:8080/"
        },
        "id": "60M9BVflL5uv",
        "outputId": "d3e64d6d-3eea-4074-d1e2-3826512c3458"
      },
      "source": [
        "list1 = ['physics', 'chemistry', 1997, 2000] \n",
        "list2 = [1, 2, 3, 4, 5, 6, 7 ] \n",
        "print(\"list1[0]: \", list1[0]) \n",
        "print(\"list2[1:5]: \", list2[1:5]) \n"
      ],
      "execution_count": 1,
      "outputs": [
        {
          "output_type": "stream",
          "name": "stdout",
          "text": [
            "list1[0]:  physics\n",
            "list2[1:5]:  [2, 3, 4, 5]\n"
          ]
        }
      ]
    },
    {
      "cell_type": "markdown",
      "metadata": {
        "id": "1ZyRs3cMMBW-"
      },
      "source": [
        "Slide 7:"
      ]
    },
    {
      "cell_type": "code",
      "metadata": {
        "colab": {
          "base_uri": "https://localhost:8080/"
        },
        "id": "U14CfWLeMCS2",
        "outputId": "d234f1b6-d652-4fbd-b658-f6519ab6e89b"
      },
      "source": [
        "list = ['physics', 'chemistry', 1997, 2000] \n",
        "print(\"Value available at index 2 : \") \n",
        "print(list[2]) \n",
        "list[2] = 2001 \n",
        "print(\"New value available at index 2 : \") \n",
        "print(list[2]) "
      ],
      "execution_count": 2,
      "outputs": [
        {
          "output_type": "stream",
          "name": "stdout",
          "text": [
            "Value available at index 2 : \n",
            "1997\n",
            "New value available at index 2 : \n",
            "2001\n"
          ]
        }
      ]
    },
    {
      "cell_type": "markdown",
      "metadata": {
        "id": "k4j3Y8QgMLxt"
      },
      "source": [
        "Slide 8:"
      ]
    },
    {
      "cell_type": "code",
      "metadata": {
        "colab": {
          "base_uri": "https://localhost:8080/"
        },
        "id": "OTytiDJ_MNhu",
        "outputId": "273c7102-19e6-4fed-efd6-8903cef9fb6f"
      },
      "source": [
        "ist1 = ['physics', 'chemistry', 1997, 2000] \n",
        "print(list1) \n",
        "del list1[2] \n",
        "print(\"After deleting value at index 2 : \") \n",
        "print(list1) "
      ],
      "execution_count": 3,
      "outputs": [
        {
          "output_type": "stream",
          "name": "stdout",
          "text": [
            "['physics', 'chemistry', 1997, 2000]\n",
            "After deleting value at index 2 : \n",
            "['physics', 'chemistry', 2000]\n"
          ]
        }
      ]
    },
    {
      "cell_type": "markdown",
      "metadata": {
        "id": "UJoRbA0vMQAe"
      },
      "source": [
        "Slide 16:\n",
        "\n"
      ]
    },
    {
      "cell_type": "code",
      "metadata": {
        "colab": {
          "base_uri": "https://localhost:8080/"
        },
        "id": "1iPOn1WIMmVv",
        "outputId": "214157a1-1221-4e2c-f907-60eef857eed5"
      },
      "source": [
        "tup1 = ('physics', 'chemistry', 1997, 2000) \n",
        "tup2 = (1, 2, 3, 4, 5, 6, 7 ) \n",
        "print(\"tup1[0]: \", tup1[0]) \n",
        "print(\"tup2[1:5]: \", tup2[1:5]) "
      ],
      "execution_count": 5,
      "outputs": [
        {
          "output_type": "stream",
          "name": "stdout",
          "text": [
            "tup1[0]:  physics\n",
            "tup2[1:5]:  (2, 3, 4, 5)\n"
          ]
        }
      ]
    },
    {
      "cell_type": "markdown",
      "metadata": {
        "id": "55hc0rOrMqHu"
      },
      "source": [
        "Slide 17:"
      ]
    },
    {
      "cell_type": "code",
      "metadata": {
        "colab": {
          "base_uri": "https://localhost:8080/"
        },
        "id": "Sfe_Ezx7MwDX",
        "outputId": "76bb3389-d5b5-447b-f050-9c3534ba4ac0"
      },
      "source": [
        "tup1 = (12, 34.56) \n",
        "tup2 = ('abc', 'xyz') \n",
        "# Following action is not valid for tuples \n",
        "# tup1[0] = 100; \n",
        "# So let's create a new tuple as follows \n",
        "tup3 = tup1 + tup2 \n",
        "print(tup3) "
      ],
      "execution_count": 6,
      "outputs": [
        {
          "output_type": "stream",
          "name": "stdout",
          "text": [
            "(12, 34.56, 'abc', 'xyz')\n"
          ]
        }
      ]
    },
    {
      "cell_type": "markdown",
      "metadata": {
        "id": "bQGS9Y_lMxsH"
      },
      "source": [
        "Slide 18:"
      ]
    },
    {
      "cell_type": "code",
      "metadata": {
        "colab": {
          "base_uri": "https://localhost:8080/",
          "height": 252
        },
        "id": "MfAY3jwLM05X",
        "outputId": "8a72af66-de4c-4015-bfc1-32b11fd18571"
      },
      "source": [
        "tup = ('physics', 'chemistry', 1997, 2000) \n",
        "print(tup) \n",
        "del tup \n",
        "print(\"After deleting tup : \") \n",
        "print(tup) \n",
        "#tup is no longer exist \n"
      ],
      "execution_count": 7,
      "outputs": [
        {
          "output_type": "stream",
          "name": "stdout",
          "text": [
            "('physics', 'chemistry', 1997, 2000)\n",
            "After deleting tup : \n"
          ]
        },
        {
          "output_type": "error",
          "ename": "NameError",
          "evalue": "ignored",
          "traceback": [
            "\u001b[0;31m---------------------------------------------------------------------------\u001b[0m",
            "\u001b[0;31mNameError\u001b[0m                                 Traceback (most recent call last)",
            "\u001b[0;32m<ipython-input-7-2933684995f9>\u001b[0m in \u001b[0;36m<module>\u001b[0;34m()\u001b[0m\n\u001b[1;32m      3\u001b[0m \u001b[0;32mdel\u001b[0m \u001b[0mtup\u001b[0m\u001b[0;34m\u001b[0m\u001b[0;34m\u001b[0m\u001b[0m\n\u001b[1;32m      4\u001b[0m \u001b[0mprint\u001b[0m\u001b[0;34m(\u001b[0m\u001b[0;34m\"After deleting tup : \"\u001b[0m\u001b[0;34m)\u001b[0m\u001b[0;34m\u001b[0m\u001b[0;34m\u001b[0m\u001b[0m\n\u001b[0;32m----> 5\u001b[0;31m \u001b[0mprint\u001b[0m\u001b[0;34m(\u001b[0m\u001b[0mtup\u001b[0m\u001b[0;34m)\u001b[0m\u001b[0;34m\u001b[0m\u001b[0;34m\u001b[0m\u001b[0m\n\u001b[0m\u001b[1;32m      6\u001b[0m \u001b[0;31m#tup is no longer exist\u001b[0m\u001b[0;34m\u001b[0m\u001b[0;34m\u001b[0m\u001b[0;34m\u001b[0m\u001b[0m\n",
            "\u001b[0;31mNameError\u001b[0m: name 'tup' is not defined"
          ]
        }
      ]
    },
    {
      "cell_type": "markdown",
      "metadata": {
        "id": "MPRc3yofNKYH"
      },
      "source": [
        "Slide 24:"
      ]
    },
    {
      "cell_type": "code",
      "metadata": {
        "colab": {
          "base_uri": "https://localhost:8080/"
        },
        "id": "uq7qhETZNL1X",
        "outputId": "c1d4ce4d-8495-4a2b-c6cf-b5fdd54b0010"
      },
      "source": [
        "dict = {'Name': 'Zara', 'Age': 7, 'Class': 'First'} \n",
        "print(\"dict['Name']: \", dict['Name']) \n",
        "print(\"dict['Age']: \", dict['Age'])  \n"
      ],
      "execution_count": 11,
      "outputs": [
        {
          "output_type": "stream",
          "name": "stdout",
          "text": [
            "dict['Name']:  Zara\n",
            "dict['Age']:  7\n"
          ]
        }
      ]
    },
    {
      "cell_type": "markdown",
      "metadata": {
        "id": "t1qmEpaeNqYf"
      },
      "source": [
        "Slide 25"
      ]
    },
    {
      "cell_type": "code",
      "metadata": {
        "colab": {
          "base_uri": "https://localhost:8080/"
        },
        "id": "te7ZyJ_NNewX",
        "outputId": "f4e8773c-42f5-4019-8936-f88ff3fe743c"
      },
      "source": [
        "dict = {'Name': 'Zara', 'Age': 7, 'Class': 'First'} \n",
        "dict['Age'] = 8; # update existing entry \n",
        "dict['School'] = \"DPS School\"; # Add new entry \n",
        "print(\"dict['Age']: \", dict['Age']) \n",
        "print(\"dict['School']: \", dict['School']) "
      ],
      "execution_count": 13,
      "outputs": [
        {
          "output_type": "stream",
          "name": "stdout",
          "text": [
            "dict['Age']:  8\n",
            "dict['School']:  DPS School\n"
          ]
        }
      ]
    },
    {
      "cell_type": "markdown",
      "metadata": {
        "id": "kIe2_xHyN_F_"
      },
      "source": [
        "Slide 26:"
      ]
    },
    {
      "cell_type": "code",
      "metadata": {
        "id": "tN7Q62aFOAMe"
      },
      "source": [
        "dict = {'Name': 'Zara', 'Age': 7, 'Class': 'First'} \n",
        "del dict['Name'] "
      ],
      "execution_count": 14,
      "outputs": []
    },
    {
      "cell_type": "markdown",
      "metadata": {
        "id": "efe33_2iOL8o"
      },
      "source": [
        "Slide 31:"
      ]
    },
    {
      "cell_type": "code",
      "metadata": {
        "colab": {
          "base_uri": "https://localhost:8080/"
        },
        "id": "ukzKKNMcONCP",
        "outputId": "c210476d-ce5f-483b-ccce-42bddee2532c"
      },
      "source": [
        "# Same as {\"a\", \"b\", \"c\"} \n",
        "Set = set([\"a\", \"b\", \"c\"]) \n",
        "print(\"Set: \") \n",
        "print(Set) \n",
        "# Adding element to the set \n",
        "Set.add(\"d\") \n",
        "print(\"\\nSet after adding: \") \n",
        "print(Set) "
      ],
      "execution_count": 15,
      "outputs": [
        {
          "output_type": "stream",
          "name": "stdout",
          "text": [
            "Set: \n",
            "{'b', 'c', 'a'}\n",
            "\n",
            "Set after adding: \n",
            "{'b', 'c', 'd', 'a'}\n"
          ]
        }
      ]
    },
    {
      "cell_type": "markdown",
      "metadata": {
        "id": "fPqsPYFjOUMQ"
      },
      "source": [
        "Slide 32:"
      ]
    },
    {
      "cell_type": "code",
      "metadata": {
        "colab": {
          "base_uri": "https://localhost:8080/"
        },
        "id": "lu6_iKglOVMQ",
        "outputId": "65788ff7-9c27-4012-c954-bfd6849432b3"
      },
      "source": [
        "# Creating a Set \n",
        "people = {\"Jay\", \"Idrish\", \"Archi\"} \n",
        "print(\"People: \") \n",
        "print(people) \n",
        "people.add(\"Daxit\") \n",
        "for i in range(1, 6): \n",
        "  people.add(i) \n",
        "print(\"\\nSet after adding element:\", end = \" \") \n",
        "print(people) "
      ],
      "execution_count": 18,
      "outputs": [
        {
          "output_type": "stream",
          "name": "stdout",
          "text": [
            "People: \n",
            "{'Idrish', 'Archi', 'Jay'}\n",
            "\n",
            "Set after adding element: {'Idrish', 1, 2, 3, 4, 'Daxit', 5, 'Jay', 'Archi'}\n"
          ]
        }
      ]
    },
    {
      "cell_type": "markdown",
      "metadata": {
        "id": "FUVSoEyyOiK5"
      },
      "source": [
        "Slide 33:"
      ]
    },
    {
      "cell_type": "code",
      "metadata": {
        "colab": {
          "base_uri": "https://localhost:8080/"
        },
        "id": "YRSWQ0BiOjFw",
        "outputId": "d461548e-10ce-4aed-b49d-23c6199eb29b"
      },
      "source": [
        "Days=set([\"Mon\",\"Tue\",\"Wed\",\"Thu\",\"Fri\",\"Sat\"]) \n",
        "Days.discard(\"Sun\") \n",
        "print(Days) "
      ],
      "execution_count": 19,
      "outputs": [
        {
          "output_type": "stream",
          "name": "stdout",
          "text": [
            "{'Tue', 'Fri', 'Wed', 'Thu', 'Mon', 'Sat'}\n"
          ]
        }
      ]
    },
    {
      "cell_type": "markdown",
      "metadata": {
        "id": "GkHCb2NXOnoA"
      },
      "source": [
        "Slide 34:"
      ]
    },
    {
      "cell_type": "code",
      "metadata": {
        "colab": {
          "base_uri": "https://localhost:8080/"
        },
        "id": "Okb8Gbz8Oo8o",
        "outputId": "742e81bd-1ee9-489a-f1ca-c093d7861f70"
      },
      "source": [
        "set1 = {1,2,3,4,5,6} \n",
        "print(\"Initial set\") \n",
        "print(set1) \n",
        "# This method will remove \n",
        "# all the elements of the set \n",
        "set1.clear() \n",
        "print(\"\\nSet after using clear() function\") \n",
        "print(set1)\n"
      ],
      "execution_count": 20,
      "outputs": [
        {
          "output_type": "stream",
          "name": "stdout",
          "text": [
            "Initial set\n",
            "{1, 2, 3, 4, 5, 6}\n",
            "\n",
            "Set after using clear() function\n",
            "set()\n"
          ]
        }
      ]
    },
    {
      "cell_type": "markdown",
      "metadata": {
        "id": "j9QkPcy0OrB4"
      },
      "source": [
        "Slide 35:"
      ]
    },
    {
      "cell_type": "code",
      "metadata": {
        "colab": {
          "base_uri": "https://localhost:8080/"
        },
        "id": "hnslZEgPOvB5",
        "outputId": "88604def-9eca-4d31-ab07-d912a2caf643"
      },
      "source": [
        "people = {\"Jay\", \"Idrish\", \"Archil\"} \n",
        "vampires = {\"Karan\", \"Arjun\"} \n",
        "dracula = {\"Deepanshu\", \"Raju\"} \n",
        "# Union using union() function \n",
        "population = people.union(vampires) \n",
        "print(\"Union using union() function\") \n",
        "print(population) \n",
        "# Union using \"|\" operator \n",
        "population = people|dracula \n",
        "print(\"\\nUnion using '|' operator\") \n",
        "print(population) "
      ],
      "execution_count": 21,
      "outputs": [
        {
          "output_type": "stream",
          "name": "stdout",
          "text": [
            "Union using union() function\n",
            "{'Idrish', 'Jay', 'Karan', 'Archil', 'Arjun'}\n",
            "\n",
            "Union using '|' operator\n",
            "{'Idrish', 'Jay', 'Deepanshu', 'Archil', 'Raju'}\n"
          ]
        }
      ]
    },
    {
      "cell_type": "markdown",
      "metadata": {
        "id": "UPHDaxTEOw8A"
      },
      "source": [
        "Slide 36:"
      ]
    },
    {
      "cell_type": "code",
      "metadata": {
        "colab": {
          "base_uri": "https://localhost:8080/"
        },
        "id": "eUI5FcnHO1AR",
        "outputId": "7c6375cf-7997-4e38-83f4-3f105f26d9e6"
      },
      "source": [
        "set1 = set() \n",
        "for i in range(5): \n",
        "  set1.add(i) \n",
        "set2 = {3, 4, 5, 6, 7, 8} \n",
        "# Intersection using intersection() function \n",
        "set3 = set1.intersection(set2) \n",
        "print(\"Intersection using intersection() function\") \n",
        "print(set3) \n",
        "# Intersection using \"&\" operator \n",
        "set3 = set1 & set2 \n",
        "print(\"\\nIntersection using '&' operator\") \n",
        "print(set3) "
      ],
      "execution_count": 24,
      "outputs": [
        {
          "output_type": "stream",
          "name": "stdout",
          "text": [
            "Intersection using intersection() function\n",
            "{3, 4}\n",
            "\n",
            "Intersection using '&' operator\n",
            "{3, 4}\n"
          ]
        }
      ]
    },
    {
      "cell_type": "markdown",
      "metadata": {
        "id": "tEjJWdABO9Ey"
      },
      "source": [
        "Slide 37:"
      ]
    },
    {
      "cell_type": "code",
      "metadata": {
        "colab": {
          "base_uri": "https://localhost:8080/"
        },
        "id": "nC5qVmfgO-U4",
        "outputId": "f423588a-c02b-40bc-854d-bd82e5b94ffd"
      },
      "source": [
        "set1 = set() \n",
        "for i in range(5): \n",
        "  set1.add(i) \n",
        "set2 = {3, 4, 5, 6, 7, 8} \n",
        "# Difference of two sets using difference() function set3 = set1.difference(set2) \n",
        "print(\" Difference of two sets using difference() function\") \n",
        "print(set3) \n",
        "# Difference of two sets using '-' operator \n",
        "set3 = set1 - set2 \n",
        "print(\"\\nDifference of two sets using '-' operator\")\n",
        "print(set3) "
      ],
      "execution_count": 27,
      "outputs": [
        {
          "output_type": "stream",
          "name": "stdout",
          "text": [
            " Difference of two sets using difference() function\n",
            "{3, 4}\n",
            "\n",
            "Difference of two sets using '-' operator\n",
            "{0, 1, 2}\n"
          ]
        }
      ]
    },
    {
      "cell_type": "markdown",
      "metadata": {
        "id": "EXkQBh1WPGNZ"
      },
      "source": [
        "Slide 38:"
      ]
    },
    {
      "cell_type": "code",
      "metadata": {
        "colab": {
          "base_uri": "https://localhost:8080/"
        },
        "id": "UW_boPDJPHio",
        "outputId": "2816bf60-4597-426d-e817-df0ca80d1bbe"
      },
      "source": [
        "DaysA = set([\"Mon\",\"Tue\",\"Wed\"]) \n",
        "DaysB = set([\"Mon\",\"Tue\",\"Wed\",\"Thu\",\"Fri\",\"Sat\",\"Sun\"]) \n",
        "SubsetRes = DaysA <= DaysB \n",
        "SupersetRes = DaysB >= DaysA \n",
        "print(SubsetRes) \n",
        "print(SupersetRes) "
      ],
      "execution_count": 29,
      "outputs": [
        {
          "output_type": "stream",
          "name": "stdout",
          "text": [
            "True\n",
            "True\n"
          ]
        }
      ]
    },
    {
      "cell_type": "markdown",
      "metadata": {
        "id": "wSqxhqiRPOkY"
      },
      "source": [
        "Slide 41:"
      ]
    },
    {
      "cell_type": "code",
      "metadata": {
        "colab": {
          "base_uri": "https://localhost:8080/"
        },
        "id": "fq-RgX-UPP4I",
        "outputId": "a66f3c83-bf07-45de-d4b4-b4d3dd07ad52"
      },
      "source": [
        "import time; # This is required to include time module. \n",
        "ticks = time.time() \n",
        "print(\"Number of ticks since 12:00am, January 1, 1970:\", ticks) #Number of ticks since 12:00am, January 1, 1970: 7186862.7339\n",
        "localtime = time.localtime(time.time()) \n",
        "print(\"Local current time :\", localtime) "
      ],
      "execution_count": 34,
      "outputs": [
        {
          "output_type": "stream",
          "name": "stdout",
          "text": [
            "Number of ticks since 12:00am, January 1, 1970: 1632964110.0235405\n",
            "Local current time : time.struct_time(tm_year=2021, tm_mon=9, tm_mday=30, tm_hour=1, tm_min=8, tm_sec=30, tm_wday=3, tm_yday=273, tm_isdst=0)\n"
          ]
        }
      ]
    },
    {
      "cell_type": "markdown",
      "metadata": {
        "id": "ZTK8E-PKPugp"
      },
      "source": [
        "Slide 42:"
      ]
    },
    {
      "cell_type": "code",
      "metadata": {
        "colab": {
          "base_uri": "https://localhost:8080/"
        },
        "id": "aBglgoW6PxPK",
        "outputId": "f8e0f90c-4363-475b-cdce-7dabf1fdfada"
      },
      "source": [
        "import time; \n",
        "localtime = time.asctime( time.localtime(time.time()) ) \n",
        "print(\"Local current time :\", localtime) "
      ],
      "execution_count": 35,
      "outputs": [
        {
          "output_type": "stream",
          "name": "stdout",
          "text": [
            "Local current time : Thu Sep 30 01:08:49 2021\n"
          ]
        }
      ]
    },
    {
      "cell_type": "markdown",
      "metadata": {
        "id": "kZfc0M8KP0xS"
      },
      "source": [
        "Slide 43:"
      ]
    },
    {
      "cell_type": "code",
      "metadata": {
        "colab": {
          "base_uri": "https://localhost:8080/"
        },
        "id": "twXUzbJGP2KK",
        "outputId": "7e0fd0e9-35aa-4ca8-cdd3-815e5ed89021"
      },
      "source": [
        "import calendar \n",
        "cal = calendar.month(2008, 1) \n",
        "print(\"Here is the calendar:\") \n",
        "print(cal) "
      ],
      "execution_count": 36,
      "outputs": [
        {
          "output_type": "stream",
          "name": "stdout",
          "text": [
            "Here is the calendar:\n",
            "    January 2008\n",
            "Mo Tu We Th Fr Sa Su\n",
            "    1  2  3  4  5  6\n",
            " 7  8  9 10 11 12 13\n",
            "14 15 16 17 18 19 20\n",
            "21 22 23 24 25 26 27\n",
            "28 29 30 31\n",
            "\n"
          ]
        }
      ]
    }
  ]
}