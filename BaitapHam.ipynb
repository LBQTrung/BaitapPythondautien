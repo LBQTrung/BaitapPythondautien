{
  "nbformat": 4,
  "nbformat_minor": 0,
  "metadata": {
    "colab": {
      "name": "BaitapHam.ipynb",
      "provenance": [],
      "collapsed_sections": [],
      "authorship_tag": "ABX9TyPow1fXUNznWBXLfY6K08y5",
      "include_colab_link": true
    },
    "kernelspec": {
      "name": "python3",
      "display_name": "Python 3"
    },
    "language_info": {
      "name": "python"
    }
  },
  "cells": [
    {
      "cell_type": "markdown",
      "metadata": {
        "id": "view-in-github",
        "colab_type": "text"
      },
      "source": [
        "<a href=\"https://colab.research.google.com/github/LBQTrung/BaitapPythondautien/blob/master/BaitapHam.ipynb\" target=\"_parent\"><img src=\"https://colab.research.google.com/assets/colab-badge.svg\" alt=\"Open In Colab\"/></a>"
      ]
    },
    {
      "cell_type": "markdown",
      "metadata": {
        "id": "3T2VThjhaw1b"
      },
      "source": [
        "Bài 1: Hãy xây dựng một hàm thực hiện các yêu cầu sau:\n",
        "- Xuất ra màn hình câu thông báo: “Lập trình Java 2021”\n",
        "- Hàm không có giá trị trả về"
      ]
    },
    {
      "cell_type": "code",
      "metadata": {
        "colab": {
          "base_uri": "https://localhost:8080/"
        },
        "id": "qzMTJP-sayCq",
        "outputId": "dfbb8d1d-465c-4cc9-eaf5-80f1baf07fe9"
      },
      "source": [
        "def printnotify():\n",
        "  print(\"Lập trình Java 2021\")\n",
        "printnotify()"
      ],
      "execution_count": 1,
      "outputs": [
        {
          "output_type": "stream",
          "name": "stdout",
          "text": [
            "Lập trình Java 2021\n"
          ]
        }
      ]
    },
    {
      "cell_type": "markdown",
      "metadata": {
        "id": "aWK51BLxbIca"
      },
      "source": [
        "Bài 2: Hãy xây dựng một hàm thực hiện các yêu cầu sau:\n",
        "- Nhận một tham số đầu vào là một chuỗi ký tự (kiểu String)\n",
        "- Xuất ra màn hình nội dung chuỗi được truyền vào từ tham số\n",
        "- Hàm không có giá trị trả về"
      ]
    },
    {
      "cell_type": "code",
      "metadata": {
        "colab": {
          "base_uri": "https://localhost:8080/"
        },
        "id": "T7vCA6qRbL9S",
        "outputId": "5145041b-dd7e-4416-a018-cc4675156c96"
      },
      "source": [
        "def printstring(thisstr):\n",
        "  print(thisstr)\n",
        "print(input())\n",
        "  "
      ],
      "execution_count": 2,
      "outputs": [
        {
          "output_type": "stream",
          "name": "stdout",
          "text": [
            "trung dep trai\n",
            "trung dep trai\n"
          ]
        }
      ]
    },
    {
      "cell_type": "markdown",
      "metadata": {
        "id": "n_FaSu5UboxB"
      },
      "source": [
        "Bài 3: Hãy viết chương trình thực hiện các yêu cầu sau:\n",
        "- Nhập một số nguyên dương n từ bàn phím (kiểm tra nếu không đạt yêu cầu thì bắt nhập\n",
        "lại)\n",
        "- Nhập một thông điệp từ bàn phím\n",
        "- Gọi thực hiện hàm ở Bài 2 n lần với thông điệp được truyền làm tham số đầu vào của hàm."
      ]
    },
    {
      "cell_type": "code",
      "metadata": {
        "colab": {
          "base_uri": "https://localhost:8080/"
        },
        "id": "CUterr23bpoX",
        "outputId": "9bd1927f-dad9-4239-b0cb-05f07c28b2fd"
      },
      "source": [
        "def printmanystring(thisstr, n):\n",
        "  for i in range(0,n):\n",
        "    printstring(thisstr)\n",
        "thisstr = input(\"Nhập chuỗi \")\n",
        "n = int(input(\"Nhập số lần lặp chuỗi: \"))\n",
        "while (n<=0):\n",
        "  n = int(input(\"Nhập lại số lần nhập lặp chuỗi: \"))\n",
        "printmanystring(thisstr, n)"
      ],
      "execution_count": 10,
      "outputs": [
        {
          "output_type": "stream",
          "name": "stdout",
          "text": [
            "Nhập chuỗi trung dep trai\n",
            "Nhập số lần lặp chuỗi: -2\n",
            "Nhập lại số lần nhập lặp chuỗi: -5\n",
            "Nhập lại số lần nhập lặp chuỗi: 3\n",
            "trung dep trai\n",
            "trung dep trai\n",
            "trung dep trai\n"
          ]
        }
      ]
    },
    {
      "cell_type": "markdown",
      "metadata": {
        "id": "DkCwNSr4cLOK"
      },
      "source": [
        "Bài 4: Hãy viết chương trình thực hiện các yêu cầu sau:\n",
        "- Xây dựng hàm giải phương trình bậc 1 (ax + b = 0), với hệ số a & b được truyền vào qua\n",
        "thông số của hàm.\n",
        "- Chương trình chính nhận các thông số a, b từ bàn phím\n",
        "- Chương trình chính gọi hàm giải phương trình bậc 1 nêu trên"
      ]
    },
    {
      "cell_type": "code",
      "metadata": {
        "colab": {
          "base_uri": "https://localhost:8080/"
        },
        "id": "1CqkhojBcNty",
        "outputId": "26c12429-be78-4e94-c32c-592842708cb1"
      },
      "source": [
        "def solve1equation(a, b):\n",
        "  if (a == 0):\n",
        "    if (b == 0):\n",
        "      print(\"Phương trình có vô số nghiệm\")\n",
        "    else:\n",
        "      print(\"Phương trình vô nghiệm\")\n",
        "  else:\n",
        "    print(\"Phương trình có nghiệm là:\",-b/a)\n",
        "print(\"Giải phương trình bậc nhất ax + b = 0\")\n",
        "a = int(input(\"Nhập a = \"))\n",
        "b = int(input(\"Nhập b = \"))\n",
        "solve1equation(a,b)"
      ],
      "execution_count": 5,
      "outputs": [
        {
          "output_type": "stream",
          "name": "stdout",
          "text": [
            "Giải phương trình bậc nhất ax + b = 0\n",
            "Nhập a = 0\n",
            "Nhập b = 0\n",
            "Phương trình có vô số nghiệm\n"
          ]
        }
      ]
    },
    {
      "cell_type": "markdown",
      "metadata": {
        "id": "4jOA1hsvdat0"
      },
      "source": [
        "Bài 5: Hãy viết chương trình thực hiện các yêu cầu sau:\n",
        "- Xây dựng hàm giải phương trình bậc (ax2 + bx + c = 0), với hệ số a & b & c được truyền\n",
        "vào qua thông số của hàm.\n",
        "- Chương trình chính nhận các thông số a, b & c từ bàn phím\n",
        "- Chương trình chính gọi hàm giải phương trình bậc 2 nêu trên"
      ]
    },
    {
      "cell_type": "code",
      "metadata": {
        "colab": {
          "base_uri": "https://localhost:8080/"
        },
        "id": "gUZ40xNwdd_E",
        "outputId": "26300c83-e0ee-41aa-f4b0-a49537e4b09e"
      },
      "source": [
        "def solve2equation(a,b,c):\n",
        "  if (a == 0):\n",
        "    solve1equation(b,c)\n",
        "  else:\n",
        "    denta = b**2 - 4*a*c\n",
        "    if (denta < 0):\n",
        "      print(\"Phương trình vô nghiệm\")\n",
        "    elif (denta == 0):\n",
        "      print(\"Phương trình có nghiệm kép:\",-b/(2*a))\n",
        "    else:\n",
        "      x1 = (-b - denta ** 0.5)/(2*a)\n",
        "      x2 = (-b + denta ** 0.5)/(2*a)\n",
        "      print(\"Phương trình có 2 nghiệm phân biệt\")\n",
        "      print(\"x1 =\",x1)\n",
        "      print(\"x2 =\",x2)\n",
        "print(\"Giải phương trình bậc 2: ax^2 + bx + c = 0\")\n",
        "a = int(input(\"Nhập a = \"))\n",
        "b = int(input(\"Nhập b = \"))\n",
        "c = int(input(\"Nhập c = \"))\n",
        "solve2equation(a,b,c)"
      ],
      "execution_count": 9,
      "outputs": [
        {
          "output_type": "stream",
          "name": "stdout",
          "text": [
            "Giải phương trình bậc 2: ax^2 + bx + c = 0\n",
            "Nhập a = 1\n",
            "Nhập b = 2\n",
            "Nhập c = 5\n",
            "Phương trình vô nghiệm\n"
          ]
        }
      ]
    },
    {
      "cell_type": "markdown",
      "metadata": {
        "id": "BVZsQz49ek9P"
      },
      "source": [
        "Bài 6: Hãy viết chương trình thực hiện các yêu cầu sau:\n",
        "\n",
        "- Cho người dùng lựa chọn giải phương trình bậc 1 hay bậc 2 bằng cách nhập số (1 hay 2)\n",
        "từ bàn phím\n",
        "- Nếu người dùng chọn giải phương trình bậc 1, thì thực hiện các bước như Bài 4\n",
        "- Nếu người dùng chọn giải phương trình bậc 2, thì thực hiện các bước như Bài 5"
      ]
    },
    {
      "cell_type": "code",
      "metadata": {
        "colab": {
          "base_uri": "https://localhost:8080/"
        },
        "id": "t6urtUjrenXP",
        "outputId": "227652ac-32dc-4df3-9b89-7d40292d002f"
      },
      "source": [
        "n = int(input(\"Bạn muốn giải phương trình bậc nhất hay bậc hai ? (1/2) : \"))\n",
        "while (n != 1) and (n != 2):\n",
        "  n = int(input(\"Bạn muốn giải phương trình bậc nhất hay bậc hai ? (1/2) : \"))\n",
        "if (n == 1):\n",
        "  a = int(input(\"Nhập a = \"))\n",
        "  b = int(input(\"Nhập b = \"))\n",
        "  solve1equation(a,b)\n",
        "else: # Ở đây em dùng else vì mình đã xác đinh n chỉ có thể bằng 1 hoặc 2\n",
        "  a = int(input(\"Nhập a = \"))\n",
        "  b = int(input(\"Nhập b = \"))\n",
        "  c = int(input(\"Nhập c = \"))\n",
        "  solve2equation(a,b,c)"
      ],
      "execution_count": 20,
      "outputs": [
        {
          "output_type": "stream",
          "name": "stdout",
          "text": [
            "Bạn muốn giải phương trình bậc nhất hay bậc hai ? (1/2) : 5\n",
            "Bạn muốn giải phương trình bậc nhất hay bậc hai ? (1/2) : 2\n",
            "Nhập a = 1\n",
            "Nhập b = 1\n",
            "Nhập c = -2\n",
            "Phương trình có 2 nghiệm phân biệt\n",
            "x1 = -2.0\n",
            "x2 = 1.0\n"
          ]
        }
      ]
    },
    {
      "cell_type": "markdown",
      "metadata": {
        "id": "CoGHToHDgEux"
      },
      "source": [
        "Bài 7: Viết chương trình thực hiện các yêu cầu sau:\n",
        "- Thực hiện yêu cầu như bài 6\n",
        "- Sau khi thực hiện xong cho người dùng lựa chọn tiếp tục thực hiện lại hay kết thúc chương\n",
        "trình"
      ]
    },
    {
      "cell_type": "code",
      "metadata": {
        "colab": {
          "base_uri": "https://localhost:8080/"
        },
        "id": "qVBZ8q4DgHJI",
        "outputId": "1a8a0f39-75dd-4968-fce6-d31fd996182a"
      },
      "source": [
        "luachon = \"y\"\n",
        "while (luachon == \"y\"):\n",
        "  n = int(input(\"Bạn muốn giải phương trình bậc nhất hay bậc hai ? (1/2) : \"))\n",
        "  while (n != 1) and (n != 2):\n",
        "    n = int(input(\"Bạn muốn giải phương trình bậc nhất hay bậc hai ? (1/2) : \"))\n",
        "  if (n == 1):\n",
        "    a = int(input(\"Nhập a = \"))\n",
        "    b = int(input(\"Nhập b = \"))\n",
        "    solve1equation(a,b)\n",
        "  else: \n",
        "    a = int(input(\"Nhập a = \"))\n",
        "    b = int(input(\"Nhập b = \"))\n",
        "    c = int(input(\"Nhập c = \"))\n",
        "    solve2equation(a,b,c)\n",
        "  luachon = input(\"Bạn có muốn tiếp tục chương trình? (y/n) :\")\n"
      ],
      "execution_count": 22,
      "outputs": [
        {
          "name": "stdout",
          "output_type": "stream",
          "text": [
            "Bạn muốn giải phương trình bậc nhất hay bậc hai ? (1/2) : 2\n",
            "Nhập a = 1\n",
            "Nhập b = 2\n",
            "Nhập c = 1\n",
            "Phương trình có nghiệm kép: -1.0\n",
            "Bạn có muốn tiếp tục chương trình? (y/n) :y\n",
            "Bạn muốn giải phương trình bậc nhất hay bậc hai ? (1/2) : 1\n",
            "Nhập a = 0\n",
            "Nhập b = 0\n",
            "Phương trình có vô số nghiệm\n",
            "Bạn có muốn tiếp tục chương trình? (y/n) :n\n"
          ]
        }
      ]
    }
  ]
}