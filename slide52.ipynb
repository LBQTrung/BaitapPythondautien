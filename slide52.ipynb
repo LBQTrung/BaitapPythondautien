{
  "nbformat": 4,
  "nbformat_minor": 0,
  "metadata": {
    "colab": {
      "name": "slide52.ipynb",
      "provenance": [],
      "collapsed_sections": [],
      "authorship_tag": "ABX9TyPKdvQjUlYQJwlod0dfgYpg",
      "include_colab_link": true
    },
    "kernelspec": {
      "name": "python3",
      "display_name": "Python 3"
    },
    "language_info": {
      "name": "python"
    }
  },
  "cells": [
    {
      "cell_type": "markdown",
      "metadata": {
        "id": "view-in-github",
        "colab_type": "text"
      },
      "source": [
        "<a href=\"https://colab.research.google.com/github/LBQTrung/BaitapPythondautien/blob/master/slide52.ipynb\" target=\"_parent\"><img src=\"https://colab.research.google.com/assets/colab-badge.svg\" alt=\"Open In Colab\"/></a>"
      ]
    },
    {
      "cell_type": "code",
      "metadata": {
        "id": "GJNbLpa0Y9GS"
      },
      "source": [
        "#Nhập số tiền vay\n",
        "loanAmount = float(input(\"Nhap so tien vay: \"))\n",
        "#Nhập lãi suất\n",
        "monthInterestRate = float(input(\"Nhap lai suat(%): \"))\n",
        "monthInterestRate = monthInterestRate /100\n",
        "#Nhập số năm\n",
        "numberOfYears = int(input(\"Nhap so nam vay: \"))\n",
        "\n",
        "monthlyPayment = (loanAmount * monthInterestRate) / (1-1/((1 + monthInterestRate) ** (numberOfYears * 12)))\n",
        "\n",
        "print(round(float(monthlyPayment), 2))\n"
      ],
      "execution_count": null,
      "outputs": []
    }
  ]
}