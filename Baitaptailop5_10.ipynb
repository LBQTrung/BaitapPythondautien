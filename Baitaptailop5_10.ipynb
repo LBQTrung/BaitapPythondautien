{
  "nbformat": 4,
  "nbformat_minor": 0,
  "metadata": {
    "colab": {
      "name": "Baitaptailop5-10.ipynb",
      "provenance": [],
      "collapsed_sections": [],
      "authorship_tag": "ABX9TyMGg0Q9CVPexKpFFMWmoECe",
      "include_colab_link": true
    },
    "kernelspec": {
      "name": "python3",
      "display_name": "Python 3"
    },
    "language_info": {
      "name": "python"
    }
  },
  "cells": [
    {
      "cell_type": "markdown",
      "metadata": {
        "id": "view-in-github",
        "colab_type": "text"
      },
      "source": [
        "<a href=\"https://colab.research.google.com/github/LBQTrung/BaitapPythondautien/blob/master/Baitaptailop5_10.ipynb\" target=\"_parent\"><img src=\"https://colab.research.google.com/assets/colab-badge.svg\" alt=\"Open In Colab\"/></a>"
      ]
    },
    {
      "cell_type": "markdown",
      "metadata": {
        "id": "YdXXNcDlA0Yn"
      },
      "source": [
        "Bài 1:"
      ]
    },
    {
      "cell_type": "code",
      "metadata": {
        "colab": {
          "base_uri": "https://localhost:8080/"
        },
        "id": "CvPHCsAUA1Kf",
        "outputId": "366e1091-1bb5-438b-f66a-809706a0100b"
      },
      "source": [
        "a = float(input(\"input number: \"))\n",
        "if (a>0):\n",
        "  print(\"Positive\")\n",
        "elif (a==0):\n",
        "  print(\"Zero\")\n",
        "else:\n",
        "  print(\"Negative\")"
      ],
      "execution_count": 1,
      "outputs": [
        {
          "output_type": "stream",
          "name": "stdout",
          "text": [
            "input number: -5.\n",
            "Negative\n"
          ]
        }
      ]
    },
    {
      "cell_type": "markdown",
      "metadata": {
        "id": "OA7jPr6gBawI"
      },
      "source": [
        "Bài 2:"
      ]
    },
    {
      "cell_type": "code",
      "metadata": {
        "colab": {
          "base_uri": "https://localhost:8080/"
        },
        "id": "mVnppvqyBb3A",
        "outputId": "cfd1da05-7349-4458-c40e-2c1515f61796"
      },
      "source": [
        "\n",
        "a = float(input(\"input first number: \"))\n",
        "b = float(input(\"input second number: \"))\n",
        "c = float(input(\"input last number: \"))\n",
        "if (a >= b) and (a >= c):\n",
        "  print(\"The greatest number: \",a)\n",
        "if (b >= a) and (b >= c):\n",
        "  print(\"The greatest number: \",b)\n",
        "if (c >= a) and (c >= b):\n",
        "  print(\"The greatest number: \",c)"
      ],
      "execution_count": 2,
      "outputs": [
        {
          "output_type": "stream",
          "name": "stdout",
          "text": [
            "input first number: 1\n",
            "input second number: 5\n",
            "input last number: 3\n",
            "The greatest number:  5.0\n"
          ]
        }
      ]
    },
    {
      "cell_type": "markdown",
      "metadata": {
        "id": "JrGnMvqWCSst"
      },
      "source": [
        "Bài 3:"
      ]
    },
    {
      "cell_type": "code",
      "metadata": {
        "colab": {
          "base_uri": "https://localhost:8080/"
        },
        "id": "31EjFMeUCTed",
        "outputId": "83174aa1-6de7-49ad-f0fb-102edef9c2c5"
      },
      "source": [
        "a = float(input(\"input number: \"))\n",
        "s = \"\"\n",
        "if (a < 0):\n",
        "  s=\"Negative {} number\"\n",
        "if (a > 0):\n",
        "  s=\"Positive {} number\"\n",
        "if (abs(a) > 1000000):\n",
        "  s = s.format(\"large\")\n",
        "if (abs(a) < 1):\n",
        "  s = s.format(\"small\") \n",
        "if (1 <= abs(a) <= 1000000):\n",
        "  s = s.format(\"\")\n",
        "print(s)"
      ],
      "execution_count": 45,
      "outputs": [
        {
          "output_type": "stream",
          "name": "stdout",
          "text": [
            "input number: 2\n",
            "Positive  number\n"
          ]
        }
      ]
    },
    {
      "cell_type": "markdown",
      "metadata": {
        "id": "OXoJhCLKDKdk"
      },
      "source": [
        "Bài 4:"
      ]
    },
    {
      "cell_type": "code",
      "metadata": {
        "colab": {
          "base_uri": "https://localhost:8080/"
        },
        "id": "Fxy42FQ6DLlU",
        "outputId": "c7ec12b7-937b-41ba-e287-fd14b76dd536"
      },
      "source": [
        "import random\n",
        "a = random.randrange(1,8)\n",
        "print(a)\n",
        "if (a == 1): print(\"Monday\")\n",
        "if (a == 2): print(\"Tuesday\")\n",
        "if (a == 3): print(\"Wednesday\")\n",
        "if (a == 4): print(\"Thursday\")\n",
        "if (a == 5): print(\"Friday\")\n",
        "if (a == 6): print(\"Saturday\")\n",
        "if (a == 7): print(\"Sunday\")\n",
        "\n"
      ],
      "execution_count": 34,
      "outputs": [
        {
          "output_type": "stream",
          "name": "stdout",
          "text": [
            "6\n",
            "Saturday\n"
          ]
        }
      ]
    },
    {
      "cell_type": "markdown",
      "metadata": {
        "id": "lt9wPaXAEFzz"
      },
      "source": [
        "Bài 5:"
      ]
    },
    {
      "cell_type": "code",
      "metadata": {
        "colab": {
          "base_uri": "https://localhost:8080/"
        },
        "id": "saOV_q7LEG7T",
        "outputId": "c879d875-f65e-4740-b1dc-7760223d632c"
      },
      "source": [
        "a = float(input(\"Input floating-point number: \"))\n",
        "a = int(a * 1000);\n",
        "a = a/1000;\n",
        "\n",
        "b = float(input(\"Input floating-point another number: \"))\n",
        "b = int(b * 1000);\n",
        "b = b/1000;\n",
        "\n",
        "if (a == b):\n",
        "  print(\"they are the same up to three decimal places\")\n",
        "else:\n",
        "  print(\"They are different\")"
      ],
      "execution_count": 47,
      "outputs": [
        {
          "output_type": "stream",
          "name": "stdout",
          "text": [
            "Input floating-point number: 1.2239\n",
            "Input floating-point another number: 1.2238898\n",
            "they are the same up to three decimal places\n"
          ]
        }
      ]
    }
  ]
}